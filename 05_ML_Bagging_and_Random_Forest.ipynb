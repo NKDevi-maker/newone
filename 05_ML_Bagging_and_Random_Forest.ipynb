{
  "nbformat": 4,
  "nbformat_minor": 0,
  "metadata": {
    "colab": {
      "provenance": [],
      "include_colab_link": true
    },
    "kernelspec": {
      "name": "python3",
      "display_name": "Python 3"
    },
    "language_info": {
      "name": "python"
    }
  },
  "cells": [
    {
      "cell_type": "markdown",
      "metadata": {
        "id": "view-in-github",
        "colab_type": "text"
      },
      "source": [
        "<a href=\"https://colab.research.google.com/github/NKDevi-maker/newone/blob/main/05_ML_Bagging_and_Random_Forest.ipynb\" target=\"_parent\"><img src=\"https://colab.research.google.com/assets/colab-badge.svg\" alt=\"Open In Colab\"/></a>"
      ]
    },
    {
      "cell_type": "markdown",
      "source": [
        "### Data Loading"
      ],
      "metadata": {
        "id": "eV6nmlVcDlBS"
      }
    },
    {
      "cell_type": "code",
      "execution_count": null,
      "metadata": {
        "colab": {
          "base_uri": "https://localhost:8080/"
        },
        "id": "AghzEWCv02hP",
        "outputId": "6ac0b982-b5f8-45d5-dbd7-a01479dfa7ef"
      },
      "outputs": [
        {
          "output_type": "stream",
          "name": "stdout",
          "text": [
            "Downloading...\n",
            "From: https://drive.google.com/uc?id=16KtxSt_QEGQvfluEaMls5cCHPwhRXgCk\n",
            "To: /content/HR-Employee-Attrition.csv\n",
            "100% 228k/228k [00:00<00:00, 54.2MB/s]\n",
            "Downloading...\n",
            "From: https://drive.google.com/uc?id=19L3rYatfhbBL1r5MHrv-p_oM2wlvrhqk\n",
            "To: /content/preprocessed_X_sm.pickle\n",
            "100% 534k/534k [00:00<00:00, 30.6MB/s]\n",
            "Downloading...\n",
            "From: https://drive.google.com/uc?id=1OHLKJwA3qZopKPvlKoRldM6BvA1A4dYF\n",
            "To: /content/X_test.pickle\n",
            "100% 111k/111k [00:00<00:00, 78.9MB/s]\n",
            "Downloading...\n",
            "From: https://drive.google.com/uc?id=1N7O_fWCTJLu8SIa_paKcDEzllgpMk8sK\n",
            "To: /content/y_sm.pickle\n",
            "100% 15.4k/15.4k [00:00<00:00, 37.9MB/s]\n",
            "Downloading...\n",
            "From: https://drive.google.com/uc?id=12Bh2AN8LcZAlg20ehpQrEWccUDaSdsOG\n",
            "To: /content/y_test.pickle\n",
            "100% 9.49k/9.49k [00:00<00:00, 22.3MB/s]\n"
          ]
        }
      ],
      "source": [
        "import pandas as pd\n",
        "import numpy as np\n",
        "\n",
        "!gdown 16KtxSt_QEGQvfluEaMls5cCHPwhRXgCk\n",
        "!gdown 19L3rYatfhbBL1r5MHrv-p_oM2wlvrhqk\n",
        "!gdown 1OHLKJwA3qZopKPvlKoRldM6BvA1A4dYF\n",
        "!gdown 1N7O_fWCTJLu8SIa_paKcDEzllgpMk8sK\n",
        "!gdown 12Bh2AN8LcZAlg20ehpQrEWccUDaSdsOG\n"
      ]
    },
    {
      "cell_type": "code",
      "source": [
        "# import pickle\n",
        "# Load data (deserialize)\n",
        "with open('preprocessed_X_sm.pickle', 'rb') as handle:\n",
        "    # X_train = pickle.load(handle)\n",
        "    X_train = pd.read_pickle(\"preprocessed_X_sm.pickle\")\n",
        "\n",
        "with open('X_test.pickle', 'rb') as handle:\n",
        "    # X_test = pickle.load(handle)\n",
        "    X_test = pd.read_pickle(\"X_test.pickle\")\n",
        "\n",
        "\n",
        "with open('y_sm.pickle', 'rb') as handle:\n",
        "    # y_train = pickle.load(handle)\n",
        "    y_train = pd.read_pickle(\"y_sm.pickle\")\n",
        "\n",
        "\n",
        "with open('y_test.pickle', 'rb') as handle:\n",
        "    # y_test = pickle.load(handle)\n",
        "    y_test = pd.read_pickle(\"y_test.pickle\")\n"
      ],
      "metadata": {
        "id": "oAXJftGY1jHz"
      },
      "execution_count": null,
      "outputs": []
    },
    {
      "cell_type": "markdown",
      "source": [
        "### Decision Tree"
      ],
      "metadata": {
        "id": "04mJzVEZDpjF"
      }
    },
    {
      "cell_type": "code",
      "source": [
        "from sklearn.tree import DecisionTreeClassifier\n",
        "\n",
        "tree_clf = DecisionTreeClassifier(random_state=7, max_depth=4)\n",
        "tree_clf.fit(X_train, y_train)\n",
        "\n",
        "print(\"Train accuracy: {:.2f}\".format(tree_clf.score(X_train, y_train)*100))\n",
        "print(\"Test accuracy: {:.2f}\".format(tree_clf.score(X_test, y_test)*100))"
      ],
      "metadata": {
        "colab": {
          "base_uri": "https://localhost:8080/"
        },
        "id": "BHapoIKi059E",
        "outputId": "fe5a93fc-38e4-48b6-f8e4-dbf09939ad1c"
      },
      "execution_count": null,
      "outputs": [
        {
          "output_type": "stream",
          "name": "stdout",
          "text": [
            "Train accuracy: 83.77\n",
            "Test accuracy: 78.80\n"
          ]
        }
      ]
    },
    {
      "cell_type": "markdown",
      "source": [
        "### Random Forest"
      ],
      "metadata": {
        "id": "inwuOo-hguls"
      }
    },
    {
      "cell_type": "code",
      "source": [
        "from sklearn.ensemble import RandomForestClassifier\n",
        "\n",
        "rf_clf = RandomForestClassifier(random_state=18, max_depth=5, n_estimators=101)"
      ],
      "metadata": {
        "id": "c8kY6ejPDufe"
      },
      "execution_count": null,
      "outputs": []
    },
    {
      "cell_type": "code",
      "source": [
        "from sklearn.model_selection import KFold, cross_validate\n",
        "\n",
        "kfold = KFold(n_splits=10)\n",
        "cv_acc_results = cross_validate(rf_clf, X_train, y_train, cv=kfold, scoring='accuracy', return_train_score=True)\n",
        "\n",
        "print(f\"K-Fold Accuracy Mean: \\n Train: {cv_acc_results['train_score'].mean()*100:.2f} \\n Validation: {cv_acc_results['test_score'].mean()*100:.2f}\")\n",
        "print(f\"K-Fold Accuracy Std: \\n Train: {cv_acc_results['train_score'].std()*100:.2f}, \\n Validation: {cv_acc_results['test_score'].std()*100:.2f}\")\n"
      ],
      "metadata": {
        "colab": {
          "base_uri": "https://localhost:8080/"
        },
        "id": "rn9BICcchfsO",
        "outputId": "282bcaba-d18a-4c23-f0f5-c7c72a13fba9"
      },
      "execution_count": null,
      "outputs": [
        {
          "output_type": "stream",
          "name": "stdout",
          "text": [
            "K-Fold Accuracy Mean: \n",
            " Train: 91.30 \n",
            " Validation: 85.94\n",
            "K-Fold Accuracy Std: \n",
            " Train: 0.64, \n",
            " Validation: 5.91\n"
          ]
        }
      ]
    },
    {
      "cell_type": "code",
      "source": [
        "rf_clf.fit(X_train, y_train)\n",
        "\n",
        "print(\"Train accuracy: {:.2f}\".format(rf_clf.score(X_train, y_train)*100))\n",
        "print(\"Test accuracy: {:.2f}\".format(rf_clf.score(X_test, y_test)*100))"
      ],
      "metadata": {
        "colab": {
          "base_uri": "https://localhost:8080/"
        },
        "id": "AprPE6TghuQX",
        "outputId": "268ecae5-7bdc-4a2a-a5ad-0d6d1f39097d"
      },
      "execution_count": null,
      "outputs": [
        {
          "output_type": "stream",
          "name": "stdout",
          "text": [
            "Train accuracy: 90.85\n",
            "Test accuracy: 83.70\n"
          ]
        }
      ]
    },
    {
      "cell_type": "code",
      "source": [
        "# Defining parameters -\n",
        "\n",
        "params = {\n",
        "          'n_estimators' : [100,200,300,400],\n",
        "          'max_depth' : [3,5,10],\n",
        "          'criterion' : ['gini', 'entropy'],\n",
        "          'bootstrap' : [True, False],\n",
        "          'max_features' : [8,9,10]\n",
        "         }\n",
        "\n",
        "from sklearn.model_selection import GridSearchCV\n",
        "\n",
        "grid = GridSearchCV(estimator = RandomForestClassifier(),\n",
        "                    param_grid = params,\n",
        "                    scoring = 'accuracy',\n",
        "                    cv = 3,\n",
        "                    n_jobs=-1\n",
        "                    )\n",
        "\n",
        "grid.fit(X_train, y_train)\n",
        "\n",
        "print(\"Best params: \", grid.best_params_)\n",
        "print(\"Best score: \", grid.best_score_)"
      ],
      "metadata": {
        "colab": {
          "base_uri": "https://localhost:8080/"
        },
        "id": "EV44zQawiDTz",
        "outputId": "de6fe369-1117-4c74-86c7-7220ffee3f47"
      },
      "execution_count": null,
      "outputs": [
        {
          "output_type": "stream",
          "name": "stdout",
          "text": [
            "Best params:  {'bootstrap': False, 'criterion': 'gini', 'max_depth': 10, 'max_features': 8, 'n_estimators': 100}\n",
            "Best score:  0.9004329004329005\n"
          ]
        }
      ]
    },
    {
      "cell_type": "code",
      "source": [
        "clf2 = RandomForestClassifier(random_state=7, bootstrap=False, criterion='gini',\n",
        "                              max_depth=10, max_features=8, n_estimators=200)\n",
        "\n",
        "kfold = KFold(n_splits=10)\n",
        "cv_acc_results = cross_validate(clf2, X_train, y_train, cv=kfold, scoring='accuracy', return_train_score=True)\n",
        "\n",
        "print(f\"K-Fold Accuracy Mean: \\n Train: {cv_acc_results['train_score'].mean()*100:.3f} \\n Validation: {cv_acc_results['test_score'].mean()*100:.3f}\")\n",
        "print(f\"K-Fold Accuracy Std: \\n Train: {cv_acc_results['train_score'].std()*100:.3f}, \\n Validation: {cv_acc_results['test_score'].std()*100:.3f}\")"
      ],
      "metadata": {
        "colab": {
          "base_uri": "https://localhost:8080/"
        },
        "id": "okKI6TaXjasW",
        "outputId": "28b74564-cd32-49a6-d991-ea99a7961af0"
      },
      "execution_count": null,
      "outputs": [
        {
          "output_type": "stream",
          "name": "stdout",
          "text": [
            "K-Fold Accuracy Mean: \n",
            " Train: 99.657 \n",
            " Validation: 91.999\n",
            "K-Fold Accuracy Std: \n",
            " Train: 0.085, \n",
            " Validation: 6.801\n"
          ]
        }
      ]
    },
    {
      "cell_type": "code",
      "source": [
        "\n",
        "# Defining parameters -\n",
        "\n",
        "from scipy.stats import uniform\n",
        "\n",
        "params = {'ccp_alpha': uniform(loc=0, scale=0.4)}\n",
        "# sample from uniform dist between 0 to 0.4\n",
        "\n",
        "from sklearn.model_selection import RandomizedSearchCV\n",
        "\n",
        "random = RandomizedSearchCV(estimator = RandomForestClassifier(random_state=7, bootstrap=False, criterion='gini',\n",
        "                                                               max_depth=10, max_features=8, n_estimators=200),\n",
        "                            param_distributions = params,\n",
        "                            scoring = 'accuracy',\n",
        "                            cv = 3,\n",
        "                            n_iter=15,\n",
        "                            n_jobs=-1\n",
        "                            )\n",
        "\n",
        "random.fit(X_train, y_train)\n",
        "\n",
        "print(\"Best param: \", random.best_params_)\n",
        "print(\"Best score: \", random.best_score_)"
      ],
      "metadata": {
        "colab": {
          "base_uri": "https://localhost:8080/"
        },
        "id": "ZPzTa1_Tl0zR",
        "outputId": "5d35da58-2686-4628-af9e-2c59a5a6bdc7"
      },
      "execution_count": null,
      "outputs": [
        {
          "output_type": "stream",
          "name": "stdout",
          "text": [
            "Best param:  {'ccp_alpha': 0.007801789735753584}\n",
            "Best score:  0.8398268398268399\n"
          ]
        }
      ]
    },
    {
      "cell_type": "code",
      "source": [],
      "metadata": {
        "id": "QO8Gy5GXnGOm"
      },
      "execution_count": null,
      "outputs": []
    }
  ]
}